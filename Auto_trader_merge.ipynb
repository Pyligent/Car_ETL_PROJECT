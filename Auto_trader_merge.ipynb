{
 "cells": [
  {
   "cell_type": "code",
   "execution_count": 55,
   "metadata": {},
   "outputs": [],
   "source": [
    "import requests\n",
    "import json\n",
    "import pandas as pd\n",
    "from pprint import pprint\n",
    "import os\n",
    "import numpy as np\n",
    "import matplotlib.pyplot as plt"
   ]
  },
  {
   "cell_type": "code",
   "execution_count": 2,
   "metadata": {},
   "outputs": [
    {
     "name": "stderr",
     "output_type": "stream",
     "text": [
      "C:\\Users\\lucib\\Anaconda3\\lib\\site-packages\\IPython\\core\\interactiveshell.py:3020: DtypeWarning: Columns (73,74,76) have mixed types. Specify dtype option on import or set low_memory=False.\n",
      "  interactivity=interactivity, compiler=compiler, result=result)\n"
     ]
    }
   ],
   "source": [
    "vehicle_df = pd.read_csv('vehicles.csv')"
   ]
  },
  {
   "cell_type": "code",
   "execution_count": 3,
   "metadata": {},
   "outputs": [
    {
     "data": {
      "text/html": [
       "<div>\n",
       "<style scoped>\n",
       "    .dataframe tbody tr th:only-of-type {\n",
       "        vertical-align: middle;\n",
       "    }\n",
       "\n",
       "    .dataframe tbody tr th {\n",
       "        vertical-align: top;\n",
       "    }\n",
       "\n",
       "    .dataframe thead th {\n",
       "        text-align: right;\n",
       "    }\n",
       "</style>\n",
       "<table border=\"1\" class=\"dataframe\">\n",
       "  <thead>\n",
       "    <tr style=\"text-align: right;\">\n",
       "      <th></th>\n",
       "      <th>barrels08</th>\n",
       "      <th>barrelsA08</th>\n",
       "      <th>charge120</th>\n",
       "      <th>charge240</th>\n",
       "      <th>city08</th>\n",
       "      <th>city08U</th>\n",
       "      <th>cityA08</th>\n",
       "      <th>cityA08U</th>\n",
       "      <th>cityCD</th>\n",
       "      <th>cityE</th>\n",
       "      <th>...</th>\n",
       "      <th>mfrCode</th>\n",
       "      <th>c240Dscr</th>\n",
       "      <th>charge240b</th>\n",
       "      <th>c240bDscr</th>\n",
       "      <th>createdOn</th>\n",
       "      <th>modifiedOn</th>\n",
       "      <th>startStop</th>\n",
       "      <th>phevCity</th>\n",
       "      <th>phevHwy</th>\n",
       "      <th>phevComb</th>\n",
       "    </tr>\n",
       "  </thead>\n",
       "  <tbody>\n",
       "    <tr>\n",
       "      <th>0</th>\n",
       "      <td>15.695714</td>\n",
       "      <td>0.0</td>\n",
       "      <td>0.0</td>\n",
       "      <td>0.0</td>\n",
       "      <td>19</td>\n",
       "      <td>0.0</td>\n",
       "      <td>0</td>\n",
       "      <td>0.0</td>\n",
       "      <td>0.0</td>\n",
       "      <td>0.0</td>\n",
       "      <td>...</td>\n",
       "      <td>NaN</td>\n",
       "      <td>NaN</td>\n",
       "      <td>0.0</td>\n",
       "      <td>NaN</td>\n",
       "      <td>Tue Jan 01 00:00:00 EST 2013</td>\n",
       "      <td>Tue Jan 01 00:00:00 EST 2013</td>\n",
       "      <td>NaN</td>\n",
       "      <td>0</td>\n",
       "      <td>0</td>\n",
       "      <td>0</td>\n",
       "    </tr>\n",
       "    <tr>\n",
       "      <th>1</th>\n",
       "      <td>29.964545</td>\n",
       "      <td>0.0</td>\n",
       "      <td>0.0</td>\n",
       "      <td>0.0</td>\n",
       "      <td>9</td>\n",
       "      <td>0.0</td>\n",
       "      <td>0</td>\n",
       "      <td>0.0</td>\n",
       "      <td>0.0</td>\n",
       "      <td>0.0</td>\n",
       "      <td>...</td>\n",
       "      <td>NaN</td>\n",
       "      <td>NaN</td>\n",
       "      <td>0.0</td>\n",
       "      <td>NaN</td>\n",
       "      <td>Tue Jan 01 00:00:00 EST 2013</td>\n",
       "      <td>Tue Jan 01 00:00:00 EST 2013</td>\n",
       "      <td>NaN</td>\n",
       "      <td>0</td>\n",
       "      <td>0</td>\n",
       "      <td>0</td>\n",
       "    </tr>\n",
       "    <tr>\n",
       "      <th>2</th>\n",
       "      <td>12.207778</td>\n",
       "      <td>0.0</td>\n",
       "      <td>0.0</td>\n",
       "      <td>0.0</td>\n",
       "      <td>23</td>\n",
       "      <td>0.0</td>\n",
       "      <td>0</td>\n",
       "      <td>0.0</td>\n",
       "      <td>0.0</td>\n",
       "      <td>0.0</td>\n",
       "      <td>...</td>\n",
       "      <td>NaN</td>\n",
       "      <td>NaN</td>\n",
       "      <td>0.0</td>\n",
       "      <td>NaN</td>\n",
       "      <td>Tue Jan 01 00:00:00 EST 2013</td>\n",
       "      <td>Tue Jan 01 00:00:00 EST 2013</td>\n",
       "      <td>NaN</td>\n",
       "      <td>0</td>\n",
       "      <td>0</td>\n",
       "      <td>0</td>\n",
       "    </tr>\n",
       "    <tr>\n",
       "      <th>3</th>\n",
       "      <td>29.964545</td>\n",
       "      <td>0.0</td>\n",
       "      <td>0.0</td>\n",
       "      <td>0.0</td>\n",
       "      <td>10</td>\n",
       "      <td>0.0</td>\n",
       "      <td>0</td>\n",
       "      <td>0.0</td>\n",
       "      <td>0.0</td>\n",
       "      <td>0.0</td>\n",
       "      <td>...</td>\n",
       "      <td>NaN</td>\n",
       "      <td>NaN</td>\n",
       "      <td>0.0</td>\n",
       "      <td>NaN</td>\n",
       "      <td>Tue Jan 01 00:00:00 EST 2013</td>\n",
       "      <td>Tue Jan 01 00:00:00 EST 2013</td>\n",
       "      <td>NaN</td>\n",
       "      <td>0</td>\n",
       "      <td>0</td>\n",
       "      <td>0</td>\n",
       "    </tr>\n",
       "    <tr>\n",
       "      <th>4</th>\n",
       "      <td>17.347895</td>\n",
       "      <td>0.0</td>\n",
       "      <td>0.0</td>\n",
       "      <td>0.0</td>\n",
       "      <td>17</td>\n",
       "      <td>0.0</td>\n",
       "      <td>0</td>\n",
       "      <td>0.0</td>\n",
       "      <td>0.0</td>\n",
       "      <td>0.0</td>\n",
       "      <td>...</td>\n",
       "      <td>NaN</td>\n",
       "      <td>NaN</td>\n",
       "      <td>0.0</td>\n",
       "      <td>NaN</td>\n",
       "      <td>Tue Jan 01 00:00:00 EST 2013</td>\n",
       "      <td>Tue Jan 01 00:00:00 EST 2013</td>\n",
       "      <td>NaN</td>\n",
       "      <td>0</td>\n",
       "      <td>0</td>\n",
       "      <td>0</td>\n",
       "    </tr>\n",
       "  </tbody>\n",
       "</table>\n",
       "<p>5 rows × 83 columns</p>\n",
       "</div>"
      ],
      "text/plain": [
       "   barrels08  barrelsA08  charge120  charge240  city08  city08U  cityA08  \\\n",
       "0  15.695714         0.0        0.0        0.0      19      0.0        0   \n",
       "1  29.964545         0.0        0.0        0.0       9      0.0        0   \n",
       "2  12.207778         0.0        0.0        0.0      23      0.0        0   \n",
       "3  29.964545         0.0        0.0        0.0      10      0.0        0   \n",
       "4  17.347895         0.0        0.0        0.0      17      0.0        0   \n",
       "\n",
       "   cityA08U  cityCD  cityE    ...     mfrCode  c240Dscr  charge240b  \\\n",
       "0       0.0     0.0    0.0    ...         NaN       NaN         0.0   \n",
       "1       0.0     0.0    0.0    ...         NaN       NaN         0.0   \n",
       "2       0.0     0.0    0.0    ...         NaN       NaN         0.0   \n",
       "3       0.0     0.0    0.0    ...         NaN       NaN         0.0   \n",
       "4       0.0     0.0    0.0    ...         NaN       NaN         0.0   \n",
       "\n",
       "   c240bDscr                     createdOn                    modifiedOn  \\\n",
       "0        NaN  Tue Jan 01 00:00:00 EST 2013  Tue Jan 01 00:00:00 EST 2013   \n",
       "1        NaN  Tue Jan 01 00:00:00 EST 2013  Tue Jan 01 00:00:00 EST 2013   \n",
       "2        NaN  Tue Jan 01 00:00:00 EST 2013  Tue Jan 01 00:00:00 EST 2013   \n",
       "3        NaN  Tue Jan 01 00:00:00 EST 2013  Tue Jan 01 00:00:00 EST 2013   \n",
       "4        NaN  Tue Jan 01 00:00:00 EST 2013  Tue Jan 01 00:00:00 EST 2013   \n",
       "\n",
       "   startStop  phevCity  phevHwy  phevComb  \n",
       "0        NaN         0        0         0  \n",
       "1        NaN         0        0         0  \n",
       "2        NaN         0        0         0  \n",
       "3        NaN         0        0         0  \n",
       "4        NaN         0        0         0  \n",
       "\n",
       "[5 rows x 83 columns]"
      ]
     },
     "execution_count": 3,
     "metadata": {},
     "output_type": "execute_result"
    }
   ],
   "source": [
    "vehicle_df.head()"
   ]
  },
  {
   "cell_type": "code",
   "execution_count": 4,
   "metadata": {},
   "outputs": [],
   "source": [
    "vehicle_df_final=vehicle_df[['year', 'model','trany', 'city08','displ']]"
   ]
  },
  {
   "cell_type": "code",
   "execution_count": 5,
   "metadata": {},
   "outputs": [
    {
     "data": {
      "text/html": [
       "<div>\n",
       "<style scoped>\n",
       "    .dataframe tbody tr th:only-of-type {\n",
       "        vertical-align: middle;\n",
       "    }\n",
       "\n",
       "    .dataframe tbody tr th {\n",
       "        vertical-align: top;\n",
       "    }\n",
       "\n",
       "    .dataframe thead th {\n",
       "        text-align: right;\n",
       "    }\n",
       "</style>\n",
       "<table border=\"1\" class=\"dataframe\">\n",
       "  <thead>\n",
       "    <tr style=\"text-align: right;\">\n",
       "      <th></th>\n",
       "      <th>year</th>\n",
       "      <th>model</th>\n",
       "      <th>trany</th>\n",
       "      <th>city08</th>\n",
       "      <th>displ</th>\n",
       "    </tr>\n",
       "  </thead>\n",
       "  <tbody>\n",
       "    <tr>\n",
       "      <th>0</th>\n",
       "      <td>1985</td>\n",
       "      <td>Spider Veloce 2000</td>\n",
       "      <td>Manual 5-spd</td>\n",
       "      <td>19</td>\n",
       "      <td>2.0</td>\n",
       "    </tr>\n",
       "    <tr>\n",
       "      <th>1</th>\n",
       "      <td>1985</td>\n",
       "      <td>Testarossa</td>\n",
       "      <td>Manual 5-spd</td>\n",
       "      <td>9</td>\n",
       "      <td>4.9</td>\n",
       "    </tr>\n",
       "    <tr>\n",
       "      <th>2</th>\n",
       "      <td>1985</td>\n",
       "      <td>Charger</td>\n",
       "      <td>Manual 5-spd</td>\n",
       "      <td>23</td>\n",
       "      <td>2.2</td>\n",
       "    </tr>\n",
       "    <tr>\n",
       "      <th>3</th>\n",
       "      <td>1985</td>\n",
       "      <td>B150/B250 Wagon 2WD</td>\n",
       "      <td>Automatic 3-spd</td>\n",
       "      <td>10</td>\n",
       "      <td>5.2</td>\n",
       "    </tr>\n",
       "    <tr>\n",
       "      <th>4</th>\n",
       "      <td>1993</td>\n",
       "      <td>Legacy AWD Turbo</td>\n",
       "      <td>Manual 5-spd</td>\n",
       "      <td>17</td>\n",
       "      <td>2.2</td>\n",
       "    </tr>\n",
       "  </tbody>\n",
       "</table>\n",
       "</div>"
      ],
      "text/plain": [
       "   year                model            trany  city08  displ\n",
       "0  1985   Spider Veloce 2000     Manual 5-spd      19    2.0\n",
       "1  1985           Testarossa     Manual 5-spd       9    4.9\n",
       "2  1985              Charger     Manual 5-spd      23    2.2\n",
       "3  1985  B150/B250 Wagon 2WD  Automatic 3-spd      10    5.2\n",
       "4  1993     Legacy AWD Turbo     Manual 5-spd      17    2.2"
      ]
     },
     "execution_count": 5,
     "metadata": {},
     "output_type": "execute_result"
    }
   ],
   "source": [
    "vehicle_df_final.head()"
   ]
  },
  {
   "cell_type": "code",
   "execution_count": 6,
   "metadata": {},
   "outputs": [
    {
     "name": "stdout",
     "output_type": "stream",
     "text": [
      "40789\n"
     ]
    }
   ],
   "source": [
    "print(len(vehicle_df_final))"
   ]
  },
  {
   "cell_type": "code",
   "execution_count": 7,
   "metadata": {},
   "outputs": [],
   "source": [
    "vehicle_df_final_rename=vehicle_df_final.rename(columns={\"year\":\"Year\", \"model\":\"model\", \"trany\":\"Transmission\", \"city08\":\"mpg\", \"displ\":\"Displacement\"})"
   ]
  },
  {
   "cell_type": "code",
   "execution_count": 8,
   "metadata": {},
   "outputs": [],
   "source": [
    "vehicle_df_final_rename['Displacement']=vehicle_df_final[\"displ\"]*1000"
   ]
  },
  {
   "cell_type": "code",
   "execution_count": 9,
   "metadata": {},
   "outputs": [
    {
     "data": {
      "text/html": [
       "<div>\n",
       "<style scoped>\n",
       "    .dataframe tbody tr th:only-of-type {\n",
       "        vertical-align: middle;\n",
       "    }\n",
       "\n",
       "    .dataframe tbody tr th {\n",
       "        vertical-align: top;\n",
       "    }\n",
       "\n",
       "    .dataframe thead th {\n",
       "        text-align: right;\n",
       "    }\n",
       "</style>\n",
       "<table border=\"1\" class=\"dataframe\">\n",
       "  <thead>\n",
       "    <tr style=\"text-align: right;\">\n",
       "      <th></th>\n",
       "      <th>Year</th>\n",
       "      <th>model</th>\n",
       "      <th>Transmission</th>\n",
       "      <th>mpg</th>\n",
       "      <th>Displacement</th>\n",
       "    </tr>\n",
       "  </thead>\n",
       "  <tbody>\n",
       "    <tr>\n",
       "      <th>0</th>\n",
       "      <td>1985</td>\n",
       "      <td>Spider Veloce 2000</td>\n",
       "      <td>Manual 5-spd</td>\n",
       "      <td>19</td>\n",
       "      <td>2000.0</td>\n",
       "    </tr>\n",
       "    <tr>\n",
       "      <th>1</th>\n",
       "      <td>1985</td>\n",
       "      <td>Testarossa</td>\n",
       "      <td>Manual 5-spd</td>\n",
       "      <td>9</td>\n",
       "      <td>4900.0</td>\n",
       "    </tr>\n",
       "    <tr>\n",
       "      <th>2</th>\n",
       "      <td>1985</td>\n",
       "      <td>Charger</td>\n",
       "      <td>Manual 5-spd</td>\n",
       "      <td>23</td>\n",
       "      <td>2200.0</td>\n",
       "    </tr>\n",
       "    <tr>\n",
       "      <th>3</th>\n",
       "      <td>1985</td>\n",
       "      <td>B150/B250 Wagon 2WD</td>\n",
       "      <td>Automatic 3-spd</td>\n",
       "      <td>10</td>\n",
       "      <td>5200.0</td>\n",
       "    </tr>\n",
       "    <tr>\n",
       "      <th>4</th>\n",
       "      <td>1993</td>\n",
       "      <td>Legacy AWD Turbo</td>\n",
       "      <td>Manual 5-spd</td>\n",
       "      <td>17</td>\n",
       "      <td>2200.0</td>\n",
       "    </tr>\n",
       "  </tbody>\n",
       "</table>\n",
       "</div>"
      ],
      "text/plain": [
       "   Year                model     Transmission  mpg  Displacement\n",
       "0  1985   Spider Veloce 2000     Manual 5-spd   19        2000.0\n",
       "1  1985           Testarossa     Manual 5-spd    9        4900.0\n",
       "2  1985              Charger     Manual 5-spd   23        2200.0\n",
       "3  1985  B150/B250 Wagon 2WD  Automatic 3-spd   10        5200.0\n",
       "4  1993     Legacy AWD Turbo     Manual 5-spd   17        2200.0"
      ]
     },
     "execution_count": 9,
     "metadata": {},
     "output_type": "execute_result"
    }
   ],
   "source": [
    "vehicle_df_final_rename.head()"
   ]
  },
  {
   "cell_type": "markdown",
   "metadata": {},
   "source": [
    "# Merging AutoTrader"
   ]
  },
  {
   "cell_type": "code",
   "execution_count": 13,
   "metadata": {},
   "outputs": [],
   "source": [
    "auto_trader_df = pd.read_csv('max_auto_list.csv')"
   ]
  },
  {
   "cell_type": "code",
   "execution_count": 14,
   "metadata": {},
   "outputs": [
    {
     "data": {
      "text/html": [
       "<div>\n",
       "<style scoped>\n",
       "    .dataframe tbody tr th:only-of-type {\n",
       "        vertical-align: middle;\n",
       "    }\n",
       "\n",
       "    .dataframe tbody tr th {\n",
       "        vertical-align: top;\n",
       "    }\n",
       "\n",
       "    .dataframe thead th {\n",
       "        text-align: right;\n",
       "    }\n",
       "</style>\n",
       "<table border=\"1\" class=\"dataframe\">\n",
       "  <thead>\n",
       "    <tr style=\"text-align: right;\">\n",
       "      <th></th>\n",
       "      <th>make</th>\n",
       "      <th>mileage</th>\n",
       "      <th>model</th>\n",
       "      <th>price</th>\n",
       "      <th>vin</th>\n",
       "      <th>year</th>\n",
       "    </tr>\n",
       "  </thead>\n",
       "  <tbody>\n",
       "    <tr>\n",
       "      <th>0</th>\n",
       "      <td>Lexus</td>\n",
       "      <td>44,190 Miles</td>\n",
       "      <td>RX 350</td>\n",
       "      <td>$25,998</td>\n",
       "      <td>2T2BK1BA9FC342572</td>\n",
       "      <td>2015</td>\n",
       "    </tr>\n",
       "    <tr>\n",
       "      <th>1</th>\n",
       "      <td>Acura</td>\n",
       "      <td>26,888 Miles</td>\n",
       "      <td>MDX</td>\n",
       "      <td>$30,998</td>\n",
       "      <td>5FRYD4H44GB033681</td>\n",
       "      <td>2016</td>\n",
       "    </tr>\n",
       "    <tr>\n",
       "      <th>2</th>\n",
       "      <td>Toyota</td>\n",
       "      <td>19,865 Miles</td>\n",
       "      <td>Highlander</td>\n",
       "      <td>$29,998</td>\n",
       "      <td>5TDJKRFH4GS345488</td>\n",
       "      <td>2016</td>\n",
       "    </tr>\n",
       "    <tr>\n",
       "      <th>3</th>\n",
       "      <td>Acura</td>\n",
       "      <td>24,969 Miles</td>\n",
       "      <td>ILX</td>\n",
       "      <td>$18,998</td>\n",
       "      <td>19UDE2F71GA017012</td>\n",
       "      <td>2016</td>\n",
       "    </tr>\n",
       "    <tr>\n",
       "      <th>4</th>\n",
       "      <td>Toyota</td>\n",
       "      <td>61,660 Miles</td>\n",
       "      <td>Camry</td>\n",
       "      <td>$13,998</td>\n",
       "      <td>4T1BF1FK3EU388276</td>\n",
       "      <td>2014</td>\n",
       "    </tr>\n",
       "  </tbody>\n",
       "</table>\n",
       "</div>"
      ],
      "text/plain": [
       "     make       mileage       model    price                vin  year\n",
       "0   Lexus  44,190 Miles      RX 350  $25,998  2T2BK1BA9FC342572  2015\n",
       "1   Acura  26,888 Miles         MDX  $30,998  5FRYD4H44GB033681  2016\n",
       "2  Toyota  19,865 Miles  Highlander  $29,998  5TDJKRFH4GS345488  2016\n",
       "3   Acura  24,969 Miles         ILX  $18,998  19UDE2F71GA017012  2016\n",
       "4  Toyota  61,660 Miles       Camry  $13,998  4T1BF1FK3EU388276  2014"
      ]
     },
     "execution_count": 14,
     "metadata": {},
     "output_type": "execute_result"
    }
   ],
   "source": [
    "auto_trader_df.head()"
   ]
  },
  {
   "cell_type": "code",
   "execution_count": 18,
   "metadata": {},
   "outputs": [],
   "source": [
    "auto_trader_df_rename=auto_trader_df.rename(columns={\"year\":\"Year\"})"
   ]
  },
  {
   "cell_type": "code",
   "execution_count": 19,
   "metadata": {},
   "outputs": [
    {
     "data": {
      "text/html": [
       "<div>\n",
       "<style scoped>\n",
       "    .dataframe tbody tr th:only-of-type {\n",
       "        vertical-align: middle;\n",
       "    }\n",
       "\n",
       "    .dataframe tbody tr th {\n",
       "        vertical-align: top;\n",
       "    }\n",
       "\n",
       "    .dataframe thead th {\n",
       "        text-align: right;\n",
       "    }\n",
       "</style>\n",
       "<table border=\"1\" class=\"dataframe\">\n",
       "  <thead>\n",
       "    <tr style=\"text-align: right;\">\n",
       "      <th></th>\n",
       "      <th>make</th>\n",
       "      <th>mileage</th>\n",
       "      <th>model</th>\n",
       "      <th>price</th>\n",
       "      <th>vin</th>\n",
       "      <th>Year</th>\n",
       "    </tr>\n",
       "  </thead>\n",
       "  <tbody>\n",
       "    <tr>\n",
       "      <th>0</th>\n",
       "      <td>Lexus</td>\n",
       "      <td>44,190 Miles</td>\n",
       "      <td>RX 350</td>\n",
       "      <td>$25,998</td>\n",
       "      <td>2T2BK1BA9FC342572</td>\n",
       "      <td>2015</td>\n",
       "    </tr>\n",
       "    <tr>\n",
       "      <th>1</th>\n",
       "      <td>Acura</td>\n",
       "      <td>26,888 Miles</td>\n",
       "      <td>MDX</td>\n",
       "      <td>$30,998</td>\n",
       "      <td>5FRYD4H44GB033681</td>\n",
       "      <td>2016</td>\n",
       "    </tr>\n",
       "    <tr>\n",
       "      <th>2</th>\n",
       "      <td>Toyota</td>\n",
       "      <td>19,865 Miles</td>\n",
       "      <td>Highlander</td>\n",
       "      <td>$29,998</td>\n",
       "      <td>5TDJKRFH4GS345488</td>\n",
       "      <td>2016</td>\n",
       "    </tr>\n",
       "    <tr>\n",
       "      <th>3</th>\n",
       "      <td>Acura</td>\n",
       "      <td>24,969 Miles</td>\n",
       "      <td>ILX</td>\n",
       "      <td>$18,998</td>\n",
       "      <td>19UDE2F71GA017012</td>\n",
       "      <td>2016</td>\n",
       "    </tr>\n",
       "    <tr>\n",
       "      <th>4</th>\n",
       "      <td>Toyota</td>\n",
       "      <td>61,660 Miles</td>\n",
       "      <td>Camry</td>\n",
       "      <td>$13,998</td>\n",
       "      <td>4T1BF1FK3EU388276</td>\n",
       "      <td>2014</td>\n",
       "    </tr>\n",
       "  </tbody>\n",
       "</table>\n",
       "</div>"
      ],
      "text/plain": [
       "     make       mileage       model    price                vin  Year\n",
       "0   Lexus  44,190 Miles      RX 350  $25,998  2T2BK1BA9FC342572  2015\n",
       "1   Acura  26,888 Miles         MDX  $30,998  5FRYD4H44GB033681  2016\n",
       "2  Toyota  19,865 Miles  Highlander  $29,998  5TDJKRFH4GS345488  2016\n",
       "3   Acura  24,969 Miles         ILX  $18,998  19UDE2F71GA017012  2016\n",
       "4  Toyota  61,660 Miles       Camry  $13,998  4T1BF1FK3EU388276  2014"
      ]
     },
     "execution_count": 19,
     "metadata": {},
     "output_type": "execute_result"
    }
   ],
   "source": [
    "auto_trader_df_rename.head()"
   ]
  },
  {
   "cell_type": "code",
   "execution_count": 20,
   "metadata": {},
   "outputs": [
    {
     "data": {
      "text/plain": [
       "make       object\n",
       "mileage    object\n",
       "model      object\n",
       "price      object\n",
       "vin        object\n",
       "Year        int64\n",
       "dtype: object"
      ]
     },
     "execution_count": 20,
     "metadata": {},
     "output_type": "execute_result"
    }
   ],
   "source": [
    "auto_trader_df_rename.dtypes"
   ]
  },
  {
   "cell_type": "code",
   "execution_count": 21,
   "metadata": {},
   "outputs": [],
   "source": [
    "merged_cars_auto_trader_left=auto_trader_df_rename.merge(vehicle_df_final_rename, on=['Year', 'model'],how='left')"
   ]
  },
  {
   "cell_type": "code",
   "execution_count": 22,
   "metadata": {},
   "outputs": [
    {
     "data": {
      "text/html": [
       "<div>\n",
       "<style scoped>\n",
       "    .dataframe tbody tr th:only-of-type {\n",
       "        vertical-align: middle;\n",
       "    }\n",
       "\n",
       "    .dataframe tbody tr th {\n",
       "        vertical-align: top;\n",
       "    }\n",
       "\n",
       "    .dataframe thead th {\n",
       "        text-align: right;\n",
       "    }\n",
       "</style>\n",
       "<table border=\"1\" class=\"dataframe\">\n",
       "  <thead>\n",
       "    <tr style=\"text-align: right;\">\n",
       "      <th></th>\n",
       "      <th>make</th>\n",
       "      <th>mileage</th>\n",
       "      <th>model</th>\n",
       "      <th>price</th>\n",
       "      <th>vin</th>\n",
       "      <th>Year</th>\n",
       "      <th>Transmission</th>\n",
       "      <th>mpg</th>\n",
       "      <th>Displacement</th>\n",
       "    </tr>\n",
       "  </thead>\n",
       "  <tbody>\n",
       "    <tr>\n",
       "      <th>0</th>\n",
       "      <td>Lexus</td>\n",
       "      <td>44,190 Miles</td>\n",
       "      <td>RX 350</td>\n",
       "      <td>$25,998</td>\n",
       "      <td>2T2BK1BA9FC342572</td>\n",
       "      <td>2015</td>\n",
       "      <td>Automatic (S6)</td>\n",
       "      <td>18.0</td>\n",
       "      <td>3500.0</td>\n",
       "    </tr>\n",
       "    <tr>\n",
       "      <th>1</th>\n",
       "      <td>Acura</td>\n",
       "      <td>26,888 Miles</td>\n",
       "      <td>MDX</td>\n",
       "      <td>$30,998</td>\n",
       "      <td>5FRYD4H44GB033681</td>\n",
       "      <td>2016</td>\n",
       "      <td>NaN</td>\n",
       "      <td>NaN</td>\n",
       "      <td>NaN</td>\n",
       "    </tr>\n",
       "    <tr>\n",
       "      <th>2</th>\n",
       "      <td>Toyota</td>\n",
       "      <td>19,865 Miles</td>\n",
       "      <td>Highlander</td>\n",
       "      <td>$29,998</td>\n",
       "      <td>5TDJKRFH4GS345488</td>\n",
       "      <td>2016</td>\n",
       "      <td>NaN</td>\n",
       "      <td>NaN</td>\n",
       "      <td>NaN</td>\n",
       "    </tr>\n",
       "    <tr>\n",
       "      <th>3</th>\n",
       "      <td>Acura</td>\n",
       "      <td>24,969 Miles</td>\n",
       "      <td>ILX</td>\n",
       "      <td>$18,998</td>\n",
       "      <td>19UDE2F71GA017012</td>\n",
       "      <td>2016</td>\n",
       "      <td>Automatic (AM8)</td>\n",
       "      <td>25.0</td>\n",
       "      <td>2400.0</td>\n",
       "    </tr>\n",
       "    <tr>\n",
       "      <th>4</th>\n",
       "      <td>Toyota</td>\n",
       "      <td>61,660 Miles</td>\n",
       "      <td>Camry</td>\n",
       "      <td>$13,998</td>\n",
       "      <td>4T1BF1FK3EU388276</td>\n",
       "      <td>2014</td>\n",
       "      <td>Automatic (S6)</td>\n",
       "      <td>25.0</td>\n",
       "      <td>2500.0</td>\n",
       "    </tr>\n",
       "  </tbody>\n",
       "</table>\n",
       "</div>"
      ],
      "text/plain": [
       "     make       mileage       model    price                vin  Year  \\\n",
       "0   Lexus  44,190 Miles      RX 350  $25,998  2T2BK1BA9FC342572  2015   \n",
       "1   Acura  26,888 Miles         MDX  $30,998  5FRYD4H44GB033681  2016   \n",
       "2  Toyota  19,865 Miles  Highlander  $29,998  5TDJKRFH4GS345488  2016   \n",
       "3   Acura  24,969 Miles         ILX  $18,998  19UDE2F71GA017012  2016   \n",
       "4  Toyota  61,660 Miles       Camry  $13,998  4T1BF1FK3EU388276  2014   \n",
       "\n",
       "      Transmission   mpg  Displacement  \n",
       "0   Automatic (S6)  18.0        3500.0  \n",
       "1              NaN   NaN           NaN  \n",
       "2              NaN   NaN           NaN  \n",
       "3  Automatic (AM8)  25.0        2400.0  \n",
       "4   Automatic (S6)  25.0        2500.0  "
      ]
     },
     "execution_count": 22,
     "metadata": {},
     "output_type": "execute_result"
    }
   ],
   "source": [
    "merged_cars_auto_trader_left.head()"
   ]
  },
  {
   "cell_type": "code",
   "execution_count": 23,
   "metadata": {},
   "outputs": [
    {
     "name": "stdout",
     "output_type": "stream",
     "text": [
      "7141\n"
     ]
    }
   ],
   "source": [
    "print(len(merged_cars_auto_trader_left))"
   ]
  },
  {
   "cell_type": "code",
   "execution_count": 26,
   "metadata": {},
   "outputs": [],
   "source": [
    "# Transform the list_price type\n",
    "i= 0\n",
    "for item_price in merged_cars_auto_trader_left['price']:\n",
    "   if item_price == '0':\n",
    "        item_price = int(price)\n",
    "        merged_cars_auto_trader_left.loc[i,'price'] = item_price\n",
    "   else:\n",
    "        item_price = int(item_price.replace('$','').replace(',','').replace('.',' ').split()[0])\n",
    "        merged_cars_auto_trader_left.loc[i,'price'] = item_price\n",
    "   i+=1"
   ]
  },
  {
   "cell_type": "code",
   "execution_count": 27,
   "metadata": {},
   "outputs": [
    {
     "data": {
      "text/html": [
       "<div>\n",
       "<style scoped>\n",
       "    .dataframe tbody tr th:only-of-type {\n",
       "        vertical-align: middle;\n",
       "    }\n",
       "\n",
       "    .dataframe tbody tr th {\n",
       "        vertical-align: top;\n",
       "    }\n",
       "\n",
       "    .dataframe thead th {\n",
       "        text-align: right;\n",
       "    }\n",
       "</style>\n",
       "<table border=\"1\" class=\"dataframe\">\n",
       "  <thead>\n",
       "    <tr style=\"text-align: right;\">\n",
       "      <th></th>\n",
       "      <th>make</th>\n",
       "      <th>mileage</th>\n",
       "      <th>model</th>\n",
       "      <th>price</th>\n",
       "      <th>vin</th>\n",
       "      <th>Year</th>\n",
       "      <th>Transmission</th>\n",
       "      <th>mpg</th>\n",
       "      <th>Displacement</th>\n",
       "    </tr>\n",
       "  </thead>\n",
       "  <tbody>\n",
       "    <tr>\n",
       "      <th>0</th>\n",
       "      <td>Lexus</td>\n",
       "      <td>44,190 Miles</td>\n",
       "      <td>RX 350</td>\n",
       "      <td>25998</td>\n",
       "      <td>2T2BK1BA9FC342572</td>\n",
       "      <td>2015</td>\n",
       "      <td>Automatic (S6)</td>\n",
       "      <td>18.0</td>\n",
       "      <td>3500.0</td>\n",
       "    </tr>\n",
       "    <tr>\n",
       "      <th>1</th>\n",
       "      <td>Acura</td>\n",
       "      <td>26,888 Miles</td>\n",
       "      <td>MDX</td>\n",
       "      <td>30998</td>\n",
       "      <td>5FRYD4H44GB033681</td>\n",
       "      <td>2016</td>\n",
       "      <td>NaN</td>\n",
       "      <td>NaN</td>\n",
       "      <td>NaN</td>\n",
       "    </tr>\n",
       "    <tr>\n",
       "      <th>2</th>\n",
       "      <td>Toyota</td>\n",
       "      <td>19,865 Miles</td>\n",
       "      <td>Highlander</td>\n",
       "      <td>29998</td>\n",
       "      <td>5TDJKRFH4GS345488</td>\n",
       "      <td>2016</td>\n",
       "      <td>NaN</td>\n",
       "      <td>NaN</td>\n",
       "      <td>NaN</td>\n",
       "    </tr>\n",
       "    <tr>\n",
       "      <th>3</th>\n",
       "      <td>Acura</td>\n",
       "      <td>24,969 Miles</td>\n",
       "      <td>ILX</td>\n",
       "      <td>18998</td>\n",
       "      <td>19UDE2F71GA017012</td>\n",
       "      <td>2016</td>\n",
       "      <td>Automatic (AM8)</td>\n",
       "      <td>25.0</td>\n",
       "      <td>2400.0</td>\n",
       "    </tr>\n",
       "    <tr>\n",
       "      <th>4</th>\n",
       "      <td>Toyota</td>\n",
       "      <td>61,660 Miles</td>\n",
       "      <td>Camry</td>\n",
       "      <td>13998</td>\n",
       "      <td>4T1BF1FK3EU388276</td>\n",
       "      <td>2014</td>\n",
       "      <td>Automatic (S6)</td>\n",
       "      <td>25.0</td>\n",
       "      <td>2500.0</td>\n",
       "    </tr>\n",
       "  </tbody>\n",
       "</table>\n",
       "</div>"
      ],
      "text/plain": [
       "     make       mileage       model  price                vin  Year  \\\n",
       "0   Lexus  44,190 Miles      RX 350  25998  2T2BK1BA9FC342572  2015   \n",
       "1   Acura  26,888 Miles         MDX  30998  5FRYD4H44GB033681  2016   \n",
       "2  Toyota  19,865 Miles  Highlander  29998  5TDJKRFH4GS345488  2016   \n",
       "3   Acura  24,969 Miles         ILX  18998  19UDE2F71GA017012  2016   \n",
       "4  Toyota  61,660 Miles       Camry  13998  4T1BF1FK3EU388276  2014   \n",
       "\n",
       "      Transmission   mpg  Displacement  \n",
       "0   Automatic (S6)  18.0        3500.0  \n",
       "1              NaN   NaN           NaN  \n",
       "2              NaN   NaN           NaN  \n",
       "3  Automatic (AM8)  25.0        2400.0  \n",
       "4   Automatic (S6)  25.0        2500.0  "
      ]
     },
     "execution_count": 27,
     "metadata": {},
     "output_type": "execute_result"
    }
   ],
   "source": [
    "merged_cars_auto_trader_left.head()"
   ]
  },
  {
   "cell_type": "code",
   "execution_count": 38,
   "metadata": {},
   "outputs": [],
   "source": [
    "i=0\n",
    "for mileage_value in merged_cars_auto_trader_left['mileage']:\n",
    "    merged_cars_auto_trader_left.loc[i,'mileage'] = int(mileage_value.split(\" \")[0].replace(',',''))\n",
    "    i+=1"
   ]
  },
  {
   "cell_type": "code",
   "execution_count": null,
   "metadata": {},
   "outputs": [],
   "source": []
  },
  {
   "cell_type": "code",
   "execution_count": 42,
   "metadata": {},
   "outputs": [
    {
     "data": {
      "text/plain": [
       "make             object\n",
       "mileage           int64\n",
       "model            object\n",
       "price             int64\n",
       "vin              object\n",
       "Year              int64\n",
       "Transmission     object\n",
       "mpg             float64\n",
       "Displacement    float64\n",
       "dtype: object"
      ]
     },
     "execution_count": 42,
     "metadata": {},
     "output_type": "execute_result"
    }
   ],
   "source": [
    "merged_cars_auto_trader_left.dtypes"
   ]
  },
  {
   "cell_type": "code",
   "execution_count": 43,
   "metadata": {},
   "outputs": [],
   "source": [
    "merged_cars_auto_trader_left['Displacement']=merged_cars_auto_trader_left['Displacement']/1000"
   ]
  },
  {
   "cell_type": "code",
   "execution_count": 44,
   "metadata": {},
   "outputs": [
    {
     "data": {
      "text/html": [
       "<div>\n",
       "<style scoped>\n",
       "    .dataframe tbody tr th:only-of-type {\n",
       "        vertical-align: middle;\n",
       "    }\n",
       "\n",
       "    .dataframe tbody tr th {\n",
       "        vertical-align: top;\n",
       "    }\n",
       "\n",
       "    .dataframe thead th {\n",
       "        text-align: right;\n",
       "    }\n",
       "</style>\n",
       "<table border=\"1\" class=\"dataframe\">\n",
       "  <thead>\n",
       "    <tr style=\"text-align: right;\">\n",
       "      <th></th>\n",
       "      <th>make</th>\n",
       "      <th>mileage</th>\n",
       "      <th>model</th>\n",
       "      <th>price</th>\n",
       "      <th>vin</th>\n",
       "      <th>Year</th>\n",
       "      <th>Transmission</th>\n",
       "      <th>mpg</th>\n",
       "      <th>Displacement</th>\n",
       "    </tr>\n",
       "  </thead>\n",
       "  <tbody>\n",
       "    <tr>\n",
       "      <th>0</th>\n",
       "      <td>Lexus</td>\n",
       "      <td>44190</td>\n",
       "      <td>RX 350</td>\n",
       "      <td>25998</td>\n",
       "      <td>2T2BK1BA9FC342572</td>\n",
       "      <td>2015</td>\n",
       "      <td>Automatic (S6)</td>\n",
       "      <td>18.0</td>\n",
       "      <td>3.5</td>\n",
       "    </tr>\n",
       "    <tr>\n",
       "      <th>1</th>\n",
       "      <td>Acura</td>\n",
       "      <td>26888</td>\n",
       "      <td>MDX</td>\n",
       "      <td>30998</td>\n",
       "      <td>5FRYD4H44GB033681</td>\n",
       "      <td>2016</td>\n",
       "      <td>NaN</td>\n",
       "      <td>NaN</td>\n",
       "      <td>NaN</td>\n",
       "    </tr>\n",
       "    <tr>\n",
       "      <th>2</th>\n",
       "      <td>Toyota</td>\n",
       "      <td>19865</td>\n",
       "      <td>Highlander</td>\n",
       "      <td>29998</td>\n",
       "      <td>5TDJKRFH4GS345488</td>\n",
       "      <td>2016</td>\n",
       "      <td>NaN</td>\n",
       "      <td>NaN</td>\n",
       "      <td>NaN</td>\n",
       "    </tr>\n",
       "    <tr>\n",
       "      <th>3</th>\n",
       "      <td>Acura</td>\n",
       "      <td>24969</td>\n",
       "      <td>ILX</td>\n",
       "      <td>18998</td>\n",
       "      <td>19UDE2F71GA017012</td>\n",
       "      <td>2016</td>\n",
       "      <td>Automatic (AM8)</td>\n",
       "      <td>25.0</td>\n",
       "      <td>2.4</td>\n",
       "    </tr>\n",
       "    <tr>\n",
       "      <th>4</th>\n",
       "      <td>Toyota</td>\n",
       "      <td>61660</td>\n",
       "      <td>Camry</td>\n",
       "      <td>13998</td>\n",
       "      <td>4T1BF1FK3EU388276</td>\n",
       "      <td>2014</td>\n",
       "      <td>Automatic (S6)</td>\n",
       "      <td>25.0</td>\n",
       "      <td>2.5</td>\n",
       "    </tr>\n",
       "  </tbody>\n",
       "</table>\n",
       "</div>"
      ],
      "text/plain": [
       "     make  mileage       model  price                vin  Year  \\\n",
       "0   Lexus    44190      RX 350  25998  2T2BK1BA9FC342572  2015   \n",
       "1   Acura    26888         MDX  30998  5FRYD4H44GB033681  2016   \n",
       "2  Toyota    19865  Highlander  29998  5TDJKRFH4GS345488  2016   \n",
       "3   Acura    24969         ILX  18998  19UDE2F71GA017012  2016   \n",
       "4  Toyota    61660       Camry  13998  4T1BF1FK3EU388276  2014   \n",
       "\n",
       "      Transmission   mpg  Displacement  \n",
       "0   Automatic (S6)  18.0           3.5  \n",
       "1              NaN   NaN           NaN  \n",
       "2              NaN   NaN           NaN  \n",
       "3  Automatic (AM8)  25.0           2.4  \n",
       "4   Automatic (S6)  25.0           2.5  "
      ]
     },
     "execution_count": 44,
     "metadata": {},
     "output_type": "execute_result"
    }
   ],
   "source": [
    "merged_cars_auto_trader_left.head()"
   ]
  },
  {
   "cell_type": "code",
   "execution_count": 46,
   "metadata": {},
   "outputs": [],
   "source": [
    "merged_cars_auto_trader_left.to_csv(\"auto_trader_mpgdata.csv\", \n",
    "                  encoding=\"utf-8\", index=False, header=True)"
   ]
  },
  {
   "cell_type": "code",
   "execution_count": 47,
   "metadata": {},
   "outputs": [],
   "source": [
    "auto_trader_clean_mpg=merged_cars_auto_trader_left.dropna()"
   ]
  },
  {
   "cell_type": "code",
   "execution_count": 48,
   "metadata": {},
   "outputs": [],
   "source": [
    "col=['make', 'Year', 'mpg', 'Displacement','price']\n",
    "auto_trader_clean_mpg=auto_trader_clean_mpg[col]"
   ]
  },
  {
   "cell_type": "code",
   "execution_count": 49,
   "metadata": {},
   "outputs": [
    {
     "data": {
      "text/html": [
       "<div>\n",
       "<style scoped>\n",
       "    .dataframe tbody tr th:only-of-type {\n",
       "        vertical-align: middle;\n",
       "    }\n",
       "\n",
       "    .dataframe tbody tr th {\n",
       "        vertical-align: top;\n",
       "    }\n",
       "\n",
       "    .dataframe thead th {\n",
       "        text-align: right;\n",
       "    }\n",
       "</style>\n",
       "<table border=\"1\" class=\"dataframe\">\n",
       "  <thead>\n",
       "    <tr style=\"text-align: right;\">\n",
       "      <th></th>\n",
       "      <th>make</th>\n",
       "      <th>Year</th>\n",
       "      <th>mpg</th>\n",
       "      <th>Displacement</th>\n",
       "      <th>price</th>\n",
       "    </tr>\n",
       "  </thead>\n",
       "  <tbody>\n",
       "    <tr>\n",
       "      <th>0</th>\n",
       "      <td>Lexus</td>\n",
       "      <td>2015</td>\n",
       "      <td>18.0</td>\n",
       "      <td>3.5</td>\n",
       "      <td>25998</td>\n",
       "    </tr>\n",
       "    <tr>\n",
       "      <th>3</th>\n",
       "      <td>Acura</td>\n",
       "      <td>2016</td>\n",
       "      <td>25.0</td>\n",
       "      <td>2.4</td>\n",
       "      <td>18998</td>\n",
       "    </tr>\n",
       "    <tr>\n",
       "      <th>4</th>\n",
       "      <td>Toyota</td>\n",
       "      <td>2014</td>\n",
       "      <td>25.0</td>\n",
       "      <td>2.5</td>\n",
       "      <td>13998</td>\n",
       "    </tr>\n",
       "    <tr>\n",
       "      <th>5</th>\n",
       "      <td>Toyota</td>\n",
       "      <td>2014</td>\n",
       "      <td>21.0</td>\n",
       "      <td>3.5</td>\n",
       "      <td>13998</td>\n",
       "    </tr>\n",
       "    <tr>\n",
       "      <th>6</th>\n",
       "      <td>Hyundai</td>\n",
       "      <td>2015</td>\n",
       "      <td>26.0</td>\n",
       "      <td>1.6</td>\n",
       "      <td>10998</td>\n",
       "    </tr>\n",
       "  </tbody>\n",
       "</table>\n",
       "</div>"
      ],
      "text/plain": [
       "      make  Year   mpg  Displacement  price\n",
       "0    Lexus  2015  18.0           3.5  25998\n",
       "3    Acura  2016  25.0           2.4  18998\n",
       "4   Toyota  2014  25.0           2.5  13998\n",
       "5   Toyota  2014  21.0           3.5  13998\n",
       "6  Hyundai  2015  26.0           1.6  10998"
      ]
     },
     "execution_count": 49,
     "metadata": {},
     "output_type": "execute_result"
    }
   ],
   "source": [
    "auto_trader_clean_mpg.head()"
   ]
  },
  {
   "cell_type": "code",
   "execution_count": 51,
   "metadata": {},
   "outputs": [],
   "source": [
    "auto_trader_clean_mpg.to_csv(\"auto_trader__clean_mpgdata1.csv\", \n",
    "                  encoding=\"utf-8\", index=False, header=True)"
   ]
  },
  {
   "cell_type": "code",
   "execution_count": 57,
   "metadata": {},
   "outputs": [
    {
     "data": {
      "text/plain": [
       "(array([1.000e+00, 0.000e+00, 2.000e+00, 5.000e+00, 4.000e+00, 6.400e+01,\n",
       "        4.640e+02, 1.615e+03, 2.575e+03, 3.120e+02]),\n",
       " array([2000. , 2001.9, 2003.8, 2005.7, 2007.6, 2009.5, 2011.4, 2013.3,\n",
       "        2015.2, 2017.1, 2019. ]),\n",
       " <a list of 10 Patch objects>)"
      ]
     },
     "execution_count": 57,
     "metadata": {},
     "output_type": "execute_result"
    },
    {
     "data": {
      "image/png": "[encoded data removed]",
      "text/plain": [
       "<Figure size 432x288 with 1 Axes>"
      ]
     },
     "metadata": {
      "needs_background": "light"
     },
     "output_type": "display_data"
    }
   ],
   "source": [
    "plt.hist(auto_trader_clean_mpg['Year'], bins=10)"
   ]
  },
  {
   "cell_type": "code",
   "execution_count": 59,
   "metadata": {},
   "outputs": [],
   "source": [
    "auto_trader_clean_mpg_2015=auto_trader_clean_mpg.loc[auto_trader_clean_mpg['Year']==2015]"
   ]
  },
  {
   "cell_type": "code",
   "execution_count": 60,
   "metadata": {},
   "outputs": [
    {
     "data": {
      "text/html": [
       "<div>\n",
       "<style scoped>\n",
       "    .dataframe tbody tr th:only-of-type {\n",
       "        vertical-align: middle;\n",
       "    }\n",
       "\n",
       "    .dataframe tbody tr th {\n",
       "        vertical-align: top;\n",
       "    }\n",
       "\n",
       "    .dataframe thead th {\n",
       "        text-align: right;\n",
       "    }\n",
       "</style>\n",
       "<table border=\"1\" class=\"dataframe\">\n",
       "  <thead>\n",
       "    <tr style=\"text-align: right;\">\n",
       "      <th></th>\n",
       "      <th>make</th>\n",
       "      <th>Year</th>\n",
       "      <th>mpg</th>\n",
       "      <th>Displacement</th>\n",
       "      <th>price</th>\n",
       "    </tr>\n",
       "  </thead>\n",
       "  <tbody>\n",
       "    <tr>\n",
       "      <th>0</th>\n",
       "      <td>Lexus</td>\n",
       "      <td>2015</td>\n",
       "      <td>18.0</td>\n",
       "      <td>3.5</td>\n",
       "      <td>25998</td>\n",
       "    </tr>\n",
       "    <tr>\n",
       "      <th>6</th>\n",
       "      <td>Hyundai</td>\n",
       "      <td>2015</td>\n",
       "      <td>26.0</td>\n",
       "      <td>1.6</td>\n",
       "      <td>10998</td>\n",
       "    </tr>\n",
       "    <tr>\n",
       "      <th>7</th>\n",
       "      <td>Hyundai</td>\n",
       "      <td>2015</td>\n",
       "      <td>27.0</td>\n",
       "      <td>1.6</td>\n",
       "      <td>10998</td>\n",
       "    </tr>\n",
       "    <tr>\n",
       "      <th>15</th>\n",
       "      <td>Audi</td>\n",
       "      <td>2015</td>\n",
       "      <td>23.0</td>\n",
       "      <td>3.0</td>\n",
       "      <td>26998</td>\n",
       "    </tr>\n",
       "    <tr>\n",
       "      <th>16</th>\n",
       "      <td>Audi</td>\n",
       "      <td>2015</td>\n",
       "      <td>20.0</td>\n",
       "      <td>2.0</td>\n",
       "      <td>26998</td>\n",
       "    </tr>\n",
       "  </tbody>\n",
       "</table>\n",
       "</div>"
      ],
      "text/plain": [
       "       make  Year   mpg  Displacement  price\n",
       "0     Lexus  2015  18.0           3.5  25998\n",
       "6   Hyundai  2015  26.0           1.6  10998\n",
       "7   Hyundai  2015  27.0           1.6  10998\n",
       "15     Audi  2015  23.0           3.0  26998\n",
       "16     Audi  2015  20.0           2.0  26998"
      ]
     },
     "execution_count": 60,
     "metadata": {},
     "output_type": "execute_result"
    }
   ],
   "source": [
    "auto_trader_clean_mpg_2015.head()"
   ]
  },
  {
   "cell_type": "code",
   "execution_count": 63,
   "metadata": {},
   "outputs": [
    {
     "data": {
      "text/plain": [
       "make             object\n",
       "Year              int64\n",
       "mpg             float64\n",
       "Displacement    float64\n",
       "price             int64\n",
       "dtype: object"
      ]
     },
     "execution_count": 63,
     "metadata": {},
     "output_type": "execute_result"
    }
   ],
   "source": [
    "auto_trader_clean_mpg_2015.dtypes"
   ]
  },
  {
   "cell_type": "code",
   "execution_count": 61,
   "metadata": {},
   "outputs": [
    {
     "name": "stdout",
     "output_type": "stream",
     "text": [
      "1191\n"
     ]
    }
   ],
   "source": [
    "print(len(auto_trader_clean_mpg_2015))"
   ]
  },
  {
   "cell_type": "code",
   "execution_count": 118,
   "metadata": {},
   "outputs": [
    {
     "data": {
      "image/png": "[encoded data removed]",
      "text/plain": [
       "<Figure size 432x288 with 1 Axes>"
      ]
     },
     "metadata": {
      "needs_background": "light"
     },
     "output_type": "display_data"
    },
    {
     "data": {
      "text/plain": [
       "<Figure size 432x288 with 0 Axes>"
      ]
     },
     "metadata": {},
     "output_type": "display_data"
    }
   ],
   "source": [
    "plt.scatter(auto_trader_clean_mpg_2015['price'], auto_trader_clean_mpg_2015['mpg'], marker=\"o\", facecolors=\"red\", edgecolors=\"black\")\n",
    "plt.xlim(min(auto_trader_clean_mpg_2015['price'])-1000,max(auto_trader_clean_mpg_2015['price'])+1000)\n",
    "plt.ylim(min(auto_trader_clean_mpg_2015['mpg'])-3,max(auto_trader_clean_mpg_2015['mpg'])+3)\n",
    "plt.title(\"Price vs. Miles per Galon - cars made in 2015 (USA)\")\n",
    "plt.xlabel (\"Price (US$)\")\n",
    "plt.ylabel (\"MPG\")\n",
    "plt.show()\n",
    "plt.savefig(\"auto_trader_price2015_MPG.png\")"
   ]
  },
  {
   "cell_type": "code",
   "execution_count": 119,
   "metadata": {},
   "outputs": [
    {
     "data": {
      "image/png": "[encoded data removed]",
      "text/plain": [
       "<Figure size 432x288 with 1 Axes>"
      ]
     },
     "metadata": {
      "needs_background": "light"
     },
     "output_type": "display_data"
    },
    {
     "data": {
      "text/plain": [
       "<Figure size 432x288 with 0 Axes>"
      ]
     },
     "metadata": {},
     "output_type": "display_data"
    }
   ],
   "source": [
    "plt.scatter(auto_trader_clean_mpg['Displacement'], auto_trader_clean_mpg['mpg'], marker=\"o\", facecolors=\"green\", edgecolors=\"black\")\n",
    "plt.xlim(min(auto_trader_clean_mpg['Displacement'])-0.3,max(auto_trader_clean_mpg['Displacement'])+0.3)\n",
    "plt.ylim(min(auto_trader_clean_mpg['mpg'])-3,max(auto_trader_clean_mpg['mpg'])+3)\n",
    "plt.title(\"Displacement vs. Miles per Galon (USA data)\")\n",
    "plt.xlabel (\"Displacement\")\n",
    "plt.ylabel (\"mpg\")\n",
    "plt.show()\n",
    "plt.savefig(\"auto_trader_displacement_MPG.png\")"
   ]
  },
  {
   "cell_type": "code",
   "execution_count": 123,
   "metadata": {},
   "outputs": [
    {
     "data": {
      "image/png": "[encoded data removed]",
      "text/plain": [
       "<Figure size 432x288 with 1 Axes>"
      ]
     },
     "metadata": {
      "needs_background": "light"
     },
     "output_type": "display_data"
    },
    {
     "data": {
      "text/plain": [
       "<Figure size 432x288 with 0 Axes>"
      ]
     },
     "metadata": {},
     "output_type": "display_data"
    }
   ],
   "source": [
    "plt.scatter(auto_trader_clean_mpg_2015['price'], auto_trader_clean_mpg_2015['Displacement'], marker=\"o\", facecolors=\"blue\", edgecolors=\"black\")\n",
    "plt.xlim(min(auto_trader_clean_mpg_2015['price'])-1000,max(auto_trader_clean_mpg_2015['price'])+1000)\n",
    "plt.ylim(min(auto_trader_clean_mpg_2015['Displacement'])-0.5,max(auto_trader_clean_mpg_2015['Displacement'])+0.5)\n",
    "plt.title(\"Price vs. Displacement - cars made in 2015 (USA)\")\n",
    "plt.xlabel (\"Price (US$)\")\n",
    "plt.ylabel (\"Displacement\")\n",
    "\n",
    "plt.show()\n",
    "plt.savefig(\"auto_trader_price2015_displacement.png\")"
   ]
  },
  {
   "cell_type": "code",
   "execution_count": 98,
   "metadata": {},
   "outputs": [],
   "source": [
    "mpg_avg = auto_trader_clean_mpg.groupby('make')['mpg'].mean()"
   ]
  },
  {
   "cell_type": "code",
   "execution_count": 121,
   "metadata": {},
   "outputs": [
    {
     "data": {
      "image/png": "[encoded data removed]",
      "text/plain": [
       "<Figure size 432x288 with 1 Axes>"
      ]
     },
     "metadata": {
      "needs_background": "light"
     },
     "output_type": "display_data"
    }
   ],
   "source": [
    "mpg_avg_frame = mpg_avg.to_frame()\n",
    "sorted_mpg_avg_frame=mpg_avg_frame.sort_values(\"mpg\", ascending=False)\n",
    "sorted_mpg_avg_frame.plot(kind = 'bar',title = 'MPG by make (USA data)')\n",
    "plt.ylabel (\"Miles per Galon\")\n",
    "plt.xlabel (\"Make\")\n",
    "plt.savefig(\"auto_trader_make_MPG.png\")"
   ]
  },
  {
   "cell_type": "code",
   "execution_count": 122,
   "metadata": {},
   "outputs": [
    {
     "data": {
      "image/png": "[encoded data removed]",
      "text/plain": [
       "<Figure size 432x288 with 1 Axes>"
      ]
     },
     "metadata": {
      "needs_background": "light"
     },
     "output_type": "display_data"
    }
   ],
   "source": [
    "displ_avg = auto_trader_clean_mpg.groupby('make')['Displacement'].mean()\n",
    "displ_avg_frame = displ_avg.to_frame()\n",
    "sorted_displ_avg_frame=displ_avg_frame.sort_values(\"Displacement\", ascending=False)\n",
    "sorted_displ_avg_frame.plot(kind = 'bar',title = 'Displacement by make (USA data)', color=\"green\")\n",
    "plt.ylabel (\"Displacement\")\n",
    "plt.xlabel (\"Make\")\n",
    "plt.savefig(\"auto_trader_make_displacement.png\")"
   ]
  },
  {
   "cell_type": "code",
   "execution_count": null,
   "metadata": {},
   "outputs": [],
   "source": [
    "x_axis=(np.arange(len((auto_trader_clean_mpg['make']).unique())))\n",
    "plt.bar(x_axis, auto_trader_clean_mpg_2015['mpg'], marker=\"o\", facecolors=\"blue\", edgecolors=\"black\")\n",
    "\n",
    "plt.xlim(min(auto_trader_clean_mpg_2015['price'])-1000,max(auto_trader_clean_mpg_2015['price'])+1000)\n",
    "plt.ylim(min(auto_trader_clean_mpg_2015['Displacement'])-3,max(auto_trader_clean_mpg_2015['Displacement'])+3)\n",
    "plt.title(\"Price vs. Displacement in 2015 (USA)\")\n",
    "plt.xlabel (\"Price (US$)\")\n",
    "plt.ylabel (\"Displacement\")\n",
    "plt.show()"
   ]
  },
  {
   "cell_type": "code",
   "execution_count": 96,
   "metadata": {},
   "outputs": [
    {
     "name": "stdout",
     "output_type": "stream",
     "text": [
      "[ 0  1  2  3  4  5  6  7  8  9 10 11 12 13 14 15 16 17 18 19 20 21 22 23\n",
      " 24 25 26 27]\n"
     ]
    }
   ],
   "source": [
    "print(np.arange(len((auto_trader_clean_mpg['make']).unique())))"
   ]
  },
  {
   "cell_type": "code",
   "execution_count": 73,
   "metadata": {},
   "outputs": [
    {
     "data": {
      "text/plain": [
       "array(['Lexus', 'Hyundai', 'Audi', 'Honda', 'Nissan', 'FIAT', 'Toyota',\n",
       "       'Cadillac', 'Chrysler', 'Acura', 'Buick', 'Chevrolet',\n",
       "       'Volkswagen', 'Ford', 'Kia', 'Dodge', 'Alfa Romeo', 'Infiniti',\n",
       "       'BMW', 'Land Rover', 'Jaguar', 'Maserati', 'Scion'], dtype=object)"
      ]
     },
     "execution_count": 73,
     "metadata": {},
     "output_type": "execute_result"
    }
   ],
   "source": [
    "auto_trader_clean_mpg_2015['make'].unique()"
   ]
  },
  {
   "cell_type": "code",
   "execution_count": 84,
   "metadata": {},
   "outputs": [
    {
     "data": {
      "image/png": "[encoded data removed]",
      "text/plain": [
       "<Figure size 432x288 with 2 Axes>"
      ]
     },
     "metadata": {
      "needs_background": "light"
     },
     "output_type": "display_data"
    }
   ],
   "source": [
    "fig, ax1 = plt.subplots()\n",
    "\n",
    "#set the x-axis\n",
    "t = auto_trader_clean_mpg['Year']\n",
    "\n",
    "#set the first y-axis\n",
    "s1 = auto_trader_clean_mpg['mpg']\n",
    "ax1.plot(t, s1, 'b-')\n",
    "ax1.set_xlabel('time (s)')\n",
    "ax1.set_ylabel('mpg', color='b')\n",
    "ax1.tick_params('y', colors='b')\n",
    "\n",
    "#set the second y-axis\n",
    "ax2 = ax1.twinx()\n",
    "s2 = auto_trader_clean_mpg['Displacement']\n",
    "ax2.plot(t, s2, 'r.')\n",
    "ax2.set_ylabel('displacement', color='r')\n",
    "ax2.tick_params('y', colors='r')\n",
    "\n",
    "#plot it\n",
    "fig.tight_layout()\n",
    "plt.show()"
   ]
  },
  {
   "cell_type": "code",
   "execution_count": null,
   "metadata": {},
   "outputs": [],
   "source": []
  }
 ],
 "metadata": {
  "kernelspec": {
   "display_name": "Python 3",
   "language": "python",
   "name": "python3"
  },
  "language_info": {
   "codemirror_mode": {
    "name": "ipython",
    "version": 3
   },
   "file_extension": ".py",
   "mimetype": "text/x-python",
   "name": "python",
   "nbconvert_exporter": "python",
   "pygments_lexer": "ipython3",
   "version": "3.6.7"
  }
 },
 "nbformat": 4,
 "nbformat_minor": 2
}
