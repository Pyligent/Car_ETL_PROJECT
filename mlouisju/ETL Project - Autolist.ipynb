{
 "cells": [
  {
   "cell_type": "code",
   "execution_count": 1,
   "metadata": {},
   "outputs": [],
   "source": [
    "from bs4 import BeautifulSoup \n",
    "import requests\n",
    "import pandas as pd\n",
    "import json"
   ]
  },
  {
   "cell_type": "code",
   "execution_count": 8,
   "metadata": {},
   "outputs": [],
   "source": [
    "# specify the url\n",
    "auto_full_details = []\n",
    "auto_details = []\n",
    "\n",
    "\n",
    "for page_num in range(1,202):\n",
    "    auto_url = 'https://www.autolist.com/search?location=Toronto%2C+ON&latitude=43.6629&longitude=-79.3987&page=' + \\\n",
    "    str(page_num)+'&radius=100&jumpstart=desktop'\n",
    "    response = requests.get(auto_url)\n",
    "    auto_full_details = auto_full_details + json.loads(response.text)['records']\n",
    "\n",
    "\n",
    "for item in auto_full_details:\n",
    "    auto_details.append({\n",
    "      \"vin\": item[\"vin\"] ,\n",
    "      \"display_color\": item[\"display_color\"],\n",
    "      \"year\": item[\"year\"],\n",
    "      \"make\": item[\"make\"],\n",
    "      \"model\": item[\"model\"],\n",
    "      \"price\": item[\"price\"],\n",
    "      \"mileage\": item[\"mileage\"],\n",
    "      \"city\": item[\"city\"],\n",
    "      \"condition\": item[\"condition\"],\n",
    "      \"dealer_name\": item[\"dealer_name\"],\n",
    "      \"state\": item[\"state\"],\n",
    "      \"trim\": item[\"trim\"],\n",
    "      \"body_type\": item[\"body_type\"],\n",
    "      \"body_style\": item[\"body_style\"],\n",
    "      \"monthly_payment\": item[\"monthly_payment\"],\n",
    "      \"provider_name\": item[\"provider_name\"]     \n",
    "    })\n",
    "\n",
    "\n",
    "auto_df = pd.DataFrame(auto_details)\n",
    "  \n",
    "   "
   ]
  },
  {
   "cell_type": "code",
   "execution_count": null,
   "metadata": {},
   "outputs": [],
   "source": [
    "auto_df\n",
    "     \n",
    "  "
   ]
  },
  {
   "cell_type": "code",
   "execution_count": 9,
   "metadata": {},
   "outputs": [],
   "source": [
    "max_autodf = []\n",
    "for item in auto_full_details:\n",
    "    max_autodf.append({\n",
    "      \"year\": item[\"year\"],\n",
    "      \"make\": item[\"make\"],\n",
    "      \"model\": item[\"model\"],\n",
    "      \"mileage\": item[\"mileage\"],\n",
    "      \"price\": item[\"price\"], \n",
    "      \"vin\": item[\"vin\"]\n",
    "    })\n",
    "\n",
    "max_df = pd.DataFrame(max_autodf)\n",
    "  "
   ]
  },
  {
   "cell_type": "code",
   "execution_count": 10,
   "metadata": {},
   "outputs": [
    {
     "data": {
      "text/html": [
       "<div>\n",
       "<style scoped>\n",
       "    .dataframe tbody tr th:only-of-type {\n",
       "        vertical-align: middle;\n",
       "    }\n",
       "\n",
       "    .dataframe tbody tr th {\n",
       "        vertical-align: top;\n",
       "    }\n",
       "\n",
       "    .dataframe thead th {\n",
       "        text-align: right;\n",
       "    }\n",
       "</style>\n",
       "<table border=\"1\" class=\"dataframe\">\n",
       "  <thead>\n",
       "    <tr style=\"text-align: right;\">\n",
       "      <th></th>\n",
       "      <th>make</th>\n",
       "      <th>mileage</th>\n",
       "      <th>model</th>\n",
       "      <th>price</th>\n",
       "      <th>vin</th>\n",
       "      <th>year</th>\n",
       "    </tr>\n",
       "  </thead>\n",
       "  <tbody>\n",
       "    <tr>\n",
       "      <th>0</th>\n",
       "      <td>Lexus</td>\n",
       "      <td>44,190 Miles</td>\n",
       "      <td>RX 350</td>\n",
       "      <td>$25,998</td>\n",
       "      <td>2T2BK1BA9FC342572</td>\n",
       "      <td>2015</td>\n",
       "    </tr>\n",
       "    <tr>\n",
       "      <th>1</th>\n",
       "      <td>Acura</td>\n",
       "      <td>26,888 Miles</td>\n",
       "      <td>MDX</td>\n",
       "      <td>$30,998</td>\n",
       "      <td>5FRYD4H44GB033681</td>\n",
       "      <td>2016</td>\n",
       "    </tr>\n",
       "    <tr>\n",
       "      <th>2</th>\n",
       "      <td>Toyota</td>\n",
       "      <td>19,865 Miles</td>\n",
       "      <td>Highlander</td>\n",
       "      <td>$29,998</td>\n",
       "      <td>5TDJKRFH4GS345488</td>\n",
       "      <td>2016</td>\n",
       "    </tr>\n",
       "    <tr>\n",
       "      <th>3</th>\n",
       "      <td>Acura</td>\n",
       "      <td>24,969 Miles</td>\n",
       "      <td>ILX</td>\n",
       "      <td>$18,998</td>\n",
       "      <td>19UDE2F71GA017012</td>\n",
       "      <td>2016</td>\n",
       "    </tr>\n",
       "    <tr>\n",
       "      <th>4</th>\n",
       "      <td>Toyota</td>\n",
       "      <td>61,660 Miles</td>\n",
       "      <td>Camry</td>\n",
       "      <td>$13,998</td>\n",
       "      <td>4T1BF1FK3EU388276</td>\n",
       "      <td>2014</td>\n",
       "    </tr>\n",
       "  </tbody>\n",
       "</table>\n",
       "</div>"
      ],
      "text/plain": [
       "     make       mileage       model    price                vin  year\n",
       "0   Lexus  44,190 Miles      RX 350  $25,998  2T2BK1BA9FC342572  2015\n",
       "1   Acura  26,888 Miles         MDX  $30,998  5FRYD4H44GB033681  2016\n",
       "2  Toyota  19,865 Miles  Highlander  $29,998  5TDJKRFH4GS345488  2016\n",
       "3   Acura  24,969 Miles         ILX  $18,998  19UDE2F71GA017012  2016\n",
       "4  Toyota  61,660 Miles       Camry  $13,998  4T1BF1FK3EU388276  2014"
      ]
     },
     "execution_count": 10,
     "metadata": {},
     "output_type": "execute_result"
    }
   ],
   "source": [
    "max_df.head()"
   ]
  },
  {
   "cell_type": "code",
   "execution_count": 11,
   "metadata": {},
   "outputs": [],
   "source": [
    "# Save output to Excel\n",
    "max_df.to_excel(\"max_auto_list.xlsx\", index=False)"
   ]
  },
  {
   "cell_type": "code",
   "execution_count": null,
   "metadata": {},
   "outputs": [],
   "source": []
  },
  {
   "cell_type": "code",
   "execution_count": null,
   "metadata": {},
   "outputs": [],
   "source": []
  },
  {
   "cell_type": "code",
   "execution_count": null,
   "metadata": {},
   "outputs": [],
   "source": []
  }
 ],
 "metadata": {
  "kernelspec": {
   "display_name": "Python 3",
   "language": "python",
   "name": "python3"
  },
  "language_info": {
   "codemirror_mode": {
    "name": "ipython",
    "version": 3
   },
   "file_extension": ".py",
   "mimetype": "text/x-python",
   "name": "python",
   "nbconvert_exporter": "python",
   "pygments_lexer": "ipython3",
   "version": "3.6.5"
  }
 },
 "nbformat": 4,
 "nbformat_minor": 2
}
