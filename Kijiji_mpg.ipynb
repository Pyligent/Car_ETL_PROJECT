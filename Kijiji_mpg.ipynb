{
 "cells": [
  {
   "cell_type": "markdown",
   "metadata": {},
   "source": [
    "# Transformation Kijiji Data with MPG/Displacement\n",
    "\n",
    "## Clean the data"
   ]
  },
  {
   "cell_type": "code",
   "execution_count": 1,
   "metadata": {},
   "outputs": [],
   "source": [
    "import pandas as pd\n",
    "import numpy as np"
   ]
  },
  {
   "cell_type": "code",
   "execution_count": 2,
   "metadata": {},
   "outputs": [],
   "source": [
    "car_df = pd.read_csv('kijiji_mpgdata.csv')"
   ]
  },
  {
   "cell_type": "code",
   "execution_count": 3,
   "metadata": {},
   "outputs": [
    {
     "data": {
      "text/html": [
       "<div>\n",
       "<style scoped>\n",
       "    .dataframe tbody tr th:only-of-type {\n",
       "        vertical-align: middle;\n",
       "    }\n",
       "\n",
       "    .dataframe tbody tr th {\n",
       "        vertical-align: top;\n",
       "    }\n",
       "\n",
       "    .dataframe thead th {\n",
       "        text-align: right;\n",
       "    }\n",
       "</style>\n",
       "<table border=\"1\" class=\"dataframe\">\n",
       "  <thead>\n",
       "    <tr style=\"text-align: right;\">\n",
       "      <th></th>\n",
       "      <th>brand</th>\n",
       "      <th>model</th>\n",
       "      <th>Year</th>\n",
       "      <th>list_price</th>\n",
       "      <th>color</th>\n",
       "      <th>configration</th>\n",
       "      <th>condition</th>\n",
       "      <th>body_type</th>\n",
       "      <th>wheel_config</th>\n",
       "      <th>transmission</th>\n",
       "      <th>fuel_type</th>\n",
       "      <th>mileage</th>\n",
       "      <th>carfax_link</th>\n",
       "      <th>dealer_address</th>\n",
       "      <th>Transmission</th>\n",
       "      <th>mpg</th>\n",
       "      <th>Displacement</th>\n",
       "    </tr>\n",
       "  </thead>\n",
       "  <tbody>\n",
       "    <tr>\n",
       "      <th>0</th>\n",
       "      <td>Chevrolet</td>\n",
       "      <td>Silverado 1500</td>\n",
       "      <td>2017</td>\n",
       "      <td>$30,999.99</td>\n",
       "      <td>Black</td>\n",
       "      <td>LT</td>\n",
       "      <td>Used</td>\n",
       "      <td>Pickup Truck</td>\n",
       "      <td>4 x 4</td>\n",
       "      <td>Automatic</td>\n",
       "      <td>Gasoline</td>\n",
       "      <td>115,000</td>\n",
       "      <td>https://www.carproof.com/order?ref=kijiji&amp;vin=...</td>\n",
       "      <td>Brydon Drive, Etobicoke, ON</td>\n",
       "      <td>NaN</td>\n",
       "      <td>NaN</td>\n",
       "      <td>NaN</td>\n",
       "    </tr>\n",
       "    <tr>\n",
       "      <th>1</th>\n",
       "      <td>Volkswagen</td>\n",
       "      <td>Tiguan</td>\n",
       "      <td>2013</td>\n",
       "      <td>$11,450.00</td>\n",
       "      <td>Grey</td>\n",
       "      <td>COMFORTLINE  4WD</td>\n",
       "      <td>Used</td>\n",
       "      <td>SUV, Crossover</td>\n",
       "      <td>All-wheel drive (AWD)</td>\n",
       "      <td>Automatic</td>\n",
       "      <td>Gasoline</td>\n",
       "      <td>129,000</td>\n",
       "      <td>https://www.carproof.com/order?ref=kijiji&amp;vin=...</td>\n",
       "      <td>1205 Finch Avenue West, Toronto, ON, M3J 2E8</td>\n",
       "      <td>Manual 6-spd</td>\n",
       "      <td>18.0</td>\n",
       "      <td>2000.0</td>\n",
       "    </tr>\n",
       "    <tr>\n",
       "      <th>2</th>\n",
       "      <td>Volkswagen</td>\n",
       "      <td>Tiguan</td>\n",
       "      <td>2013</td>\n",
       "      <td>$11,450.00</td>\n",
       "      <td>Grey</td>\n",
       "      <td>COMFORTLINE  4WD</td>\n",
       "      <td>Used</td>\n",
       "      <td>SUV, Crossover</td>\n",
       "      <td>All-wheel drive (AWD)</td>\n",
       "      <td>Automatic</td>\n",
       "      <td>Gasoline</td>\n",
       "      <td>129,000</td>\n",
       "      <td>https://www.carproof.com/order?ref=kijiji&amp;vin=...</td>\n",
       "      <td>1205 Finch Avenue West, Toronto, ON, M3J 2E8</td>\n",
       "      <td>Automatic (S6)</td>\n",
       "      <td>21.0</td>\n",
       "      <td>2000.0</td>\n",
       "    </tr>\n",
       "    <tr>\n",
       "      <th>3</th>\n",
       "      <td>GMC</td>\n",
       "      <td>Acadia</td>\n",
       "      <td>2017</td>\n",
       "      <td>$33,988.00</td>\n",
       "      <td>Other</td>\n",
       "      <td>SLT-2</td>\n",
       "      <td>Used</td>\n",
       "      <td>Other</td>\n",
       "      <td>All-wheel drive (AWD)</td>\n",
       "      <td>Automatic</td>\n",
       "      <td>Gasoline</td>\n",
       "      <td>73,893</td>\n",
       "      <td>https://reports.carproof.com/en/main?id=ioaVnM...</td>\n",
       "      <td>1900 Victoria Park Avenue, Toronto, ON, M1R 1T6</td>\n",
       "      <td>NaN</td>\n",
       "      <td>NaN</td>\n",
       "      <td>NaN</td>\n",
       "    </tr>\n",
       "    <tr>\n",
       "      <th>4</th>\n",
       "      <td>Acura</td>\n",
       "      <td>TL</td>\n",
       "      <td>2002</td>\n",
       "      <td>$500.00</td>\n",
       "      <td>na</td>\n",
       "      <td>na</td>\n",
       "      <td>Used</td>\n",
       "      <td>Sedan</td>\n",
       "      <td>na</td>\n",
       "      <td>na</td>\n",
       "      <td>na</td>\n",
       "      <td>200,500</td>\n",
       "      <td>https://www.carproof.com/order?ref=kijiji&amp;vin=...</td>\n",
       "      <td>Toronto, ON M5N1A1</td>\n",
       "      <td>NaN</td>\n",
       "      <td>NaN</td>\n",
       "      <td>NaN</td>\n",
       "    </tr>\n",
       "  </tbody>\n",
       "</table>\n",
       "</div>"
      ],
      "text/plain": [
       "        brand           model  Year   list_price  color      configration  \\\n",
       "0   Chevrolet  Silverado 1500  2017  $30,999.99   Black                LT   \n",
       "1  Volkswagen          Tiguan  2013  $11,450.00    Grey  COMFORTLINE  4WD   \n",
       "2  Volkswagen          Tiguan  2013  $11,450.00    Grey  COMFORTLINE  4WD   \n",
       "3         GMC          Acadia  2017  $33,988.00   Other             SLT-2   \n",
       "4       Acura              TL  2002     $500.00      na                na   \n",
       "\n",
       "  condition       body_type           wheel_config transmission fuel_type  \\\n",
       "0      Used    Pickup Truck                  4 x 4    Automatic  Gasoline   \n",
       "1      Used  SUV, Crossover  All-wheel drive (AWD)    Automatic  Gasoline   \n",
       "2      Used  SUV, Crossover  All-wheel drive (AWD)    Automatic  Gasoline   \n",
       "3      Used           Other  All-wheel drive (AWD)    Automatic  Gasoline   \n",
       "4      Used           Sedan                     na           na        na   \n",
       "\n",
       "   mileage                                        carfax_link  \\\n",
       "0  115,000  https://www.carproof.com/order?ref=kijiji&vin=...   \n",
       "1  129,000  https://www.carproof.com/order?ref=kijiji&vin=...   \n",
       "2  129,000  https://www.carproof.com/order?ref=kijiji&vin=...   \n",
       "3   73,893  https://reports.carproof.com/en/main?id=ioaVnM...   \n",
       "4  200,500  https://www.carproof.com/order?ref=kijiji&vin=...   \n",
       "\n",
       "                                    dealer_address    Transmission   mpg  \\\n",
       "0                      Brydon Drive, Etobicoke, ON             NaN   NaN   \n",
       "1     1205 Finch Avenue West, Toronto, ON, M3J 2E8    Manual 6-spd  18.0   \n",
       "2     1205 Finch Avenue West, Toronto, ON, M3J 2E8  Automatic (S6)  21.0   \n",
       "3  1900 Victoria Park Avenue, Toronto, ON, M1R 1T6             NaN   NaN   \n",
       "4                               Toronto, ON M5N1A1             NaN   NaN   \n",
       "\n",
       "   Displacement  \n",
       "0           NaN  \n",
       "1        2000.0  \n",
       "2        2000.0  \n",
       "3           NaN  \n",
       "4           NaN  "
      ]
     },
     "execution_count": 3,
     "metadata": {},
     "output_type": "execute_result"
    }
   ],
   "source": [
    "car_df.head()"
   ]
  },
  {
   "cell_type": "code",
   "execution_count": 4,
   "metadata": {},
   "outputs": [
    {
     "data": {
      "text/plain": [
       "24.0    564\n",
       "21.0    540\n",
       "22.0    463\n",
       "29.0    448\n",
       "27.0    362\n",
       "17.0    354\n",
       "25.0    333\n",
       "23.0    322\n",
       "18.0    304\n",
       "20.0    291\n",
       "26.0    284\n",
       "28.0    225\n",
       "30.0    174\n",
       "15.0    157\n",
       "16.0    131\n",
       "19.0    125\n",
       "31.0    109\n",
       "14.0     72\n",
       "13.0     42\n",
       "12.0     35\n",
       "35.0     23\n",
       "11.0     14\n",
       "32.0      5\n",
       "43.0      2\n",
       "Name: mpg, dtype: int64"
      ]
     },
     "execution_count": 4,
     "metadata": {},
     "output_type": "execute_result"
    }
   ],
   "source": [
    "car_df['mpg'].value_counts()"
   ]
  },
  {
   "cell_type": "code",
   "execution_count": 5,
   "metadata": {},
   "outputs": [],
   "source": [
    "car_df = car_df.replace('na','0')"
   ]
  },
  {
   "cell_type": "code",
   "execution_count": 6,
   "metadata": {},
   "outputs": [],
   "source": [
    "car_df['Year'] = pd.to_numeric(car_df['Year'])"
   ]
  },
  {
   "cell_type": "code",
   "execution_count": null,
   "metadata": {},
   "outputs": [],
   "source": [
    "car_df['Year'] = pd.to_numeric(car_df['Year'])"
   ]
  },
  {
   "cell_type": "code",
   "execution_count": 7,
   "metadata": {},
   "outputs": [],
   "source": [
    "# Transform the list_price type\n",
    "i= 0\n",
    "for item_price in car_df['list_price']:\n",
    "    if item_price == '0':\n",
    "        item_price = int(item_price)\n",
    "            \n",
    "        car_df.loc[i,'list_price'] = item_price\n",
    "    else:\n",
    "        item_price = int(item_price.replace('$','').replace(',','').replace('.',' ').split()[0])\n",
    "        car_df.loc[i,'list_price'] = item_price\n",
    "    i+=1"
   ]
  },
  {
   "cell_type": "code",
   "execution_count": 8,
   "metadata": {},
   "outputs": [],
   "source": [
    "# Transform the mileage type\n",
    "i = 0\n",
    "\n",
    "for odo_mileage in car_df['mileage']:\n",
    "    if odo_mileage == '0':\n",
    "         car_df.loc[i,'mileage'] = 0\n",
    "    else:\n",
    "        try:\n",
    "            car_df.loc[i,'mileage'] = int(odo_mileage.replace(',',''))\n",
    "            \n",
    "        except:\n",
    "            pass\n",
    "    i+=1\n",
    "\n"
   ]
  },
  {
   "cell_type": "code",
   "execution_count": 10,
   "metadata": {},
   "outputs": [],
   "source": [
    "car_df = car_df.dropna()"
   ]
  },
  {
   "cell_type": "code",
   "execution_count": 15,
   "metadata": {},
   "outputs": [],
   "source": [
    "car_df['mpg'] = pd.to_numeric(car_df['mpg'])"
   ]
  },
  {
   "cell_type": "code",
   "execution_count": 16,
   "metadata": {},
   "outputs": [],
   "source": [
    "car_df['Displacement'] = pd.to_numeric(car_df['Displacement'])"
   ]
  },
  {
   "cell_type": "code",
   "execution_count": 17,
   "metadata": {},
   "outputs": [],
   "source": [
    "car_df['Displacement'] = car_df['Displacement']/1000"
   ]
  },
  {
   "cell_type": "code",
   "execution_count": 19,
   "metadata": {},
   "outputs": [
    {
     "data": {
      "text/html": [
       "<div>\n",
       "<style scoped>\n",
       "    .dataframe tbody tr th:only-of-type {\n",
       "        vertical-align: middle;\n",
       "    }\n",
       "\n",
       "    .dataframe tbody tr th {\n",
       "        vertical-align: top;\n",
       "    }\n",
       "\n",
       "    .dataframe thead th {\n",
       "        text-align: right;\n",
       "    }\n",
       "</style>\n",
       "<table border=\"1\" class=\"dataframe\">\n",
       "  <thead>\n",
       "    <tr style=\"text-align: right;\">\n",
       "      <th></th>\n",
       "      <th>brand</th>\n",
       "      <th>model</th>\n",
       "      <th>Year</th>\n",
       "      <th>list_price</th>\n",
       "      <th>color</th>\n",
       "      <th>configration</th>\n",
       "      <th>condition</th>\n",
       "      <th>body_type</th>\n",
       "      <th>wheel_config</th>\n",
       "      <th>transmission</th>\n",
       "      <th>fuel_type</th>\n",
       "      <th>mileage</th>\n",
       "      <th>carfax_link</th>\n",
       "      <th>dealer_address</th>\n",
       "      <th>Transmission</th>\n",
       "      <th>mpg</th>\n",
       "      <th>Displacement</th>\n",
       "    </tr>\n",
       "  </thead>\n",
       "  <tbody>\n",
       "    <tr>\n",
       "      <th>1</th>\n",
       "      <td>Volkswagen</td>\n",
       "      <td>Tiguan</td>\n",
       "      <td>2013</td>\n",
       "      <td>11450</td>\n",
       "      <td>Grey</td>\n",
       "      <td>COMFORTLINE  4WD</td>\n",
       "      <td>Used</td>\n",
       "      <td>SUV, Crossover</td>\n",
       "      <td>All-wheel drive (AWD)</td>\n",
       "      <td>Automatic</td>\n",
       "      <td>Gasoline</td>\n",
       "      <td>129000</td>\n",
       "      <td>https://www.carproof.com/order?ref=kijiji&amp;vin=...</td>\n",
       "      <td>1205 Finch Avenue West, Toronto, ON, M3J 2E8</td>\n",
       "      <td>Manual 6-spd</td>\n",
       "      <td>18.0</td>\n",
       "      <td>2.0</td>\n",
       "    </tr>\n",
       "    <tr>\n",
       "      <th>2</th>\n",
       "      <td>Volkswagen</td>\n",
       "      <td>Tiguan</td>\n",
       "      <td>2013</td>\n",
       "      <td>11450</td>\n",
       "      <td>Grey</td>\n",
       "      <td>COMFORTLINE  4WD</td>\n",
       "      <td>Used</td>\n",
       "      <td>SUV, Crossover</td>\n",
       "      <td>All-wheel drive (AWD)</td>\n",
       "      <td>Automatic</td>\n",
       "      <td>Gasoline</td>\n",
       "      <td>129000</td>\n",
       "      <td>https://www.carproof.com/order?ref=kijiji&amp;vin=...</td>\n",
       "      <td>1205 Finch Avenue West, Toronto, ON, M3J 2E8</td>\n",
       "      <td>Automatic (S6)</td>\n",
       "      <td>21.0</td>\n",
       "      <td>2.0</td>\n",
       "    </tr>\n",
       "    <tr>\n",
       "      <th>5</th>\n",
       "      <td>Honda</td>\n",
       "      <td>Accord</td>\n",
       "      <td>2015</td>\n",
       "      <td>15499</td>\n",
       "      <td>White</td>\n",
       "      <td>LX</td>\n",
       "      <td>Used</td>\n",
       "      <td>Sedan</td>\n",
       "      <td>Front-wheel drive (FWD)</td>\n",
       "      <td>Other</td>\n",
       "      <td>Gasoline</td>\n",
       "      <td>93000</td>\n",
       "      <td>https://www.carproof.com/order?ref=kijiji&amp;vin=...</td>\n",
       "      <td>1726 Kingston Road, Scarborough, ON, M1N 1S8</td>\n",
       "      <td>Manual 6-spd</td>\n",
       "      <td>18.0</td>\n",
       "      <td>3.5</td>\n",
       "    </tr>\n",
       "    <tr>\n",
       "      <th>6</th>\n",
       "      <td>Honda</td>\n",
       "      <td>Accord</td>\n",
       "      <td>2015</td>\n",
       "      <td>15499</td>\n",
       "      <td>White</td>\n",
       "      <td>LX</td>\n",
       "      <td>Used</td>\n",
       "      <td>Sedan</td>\n",
       "      <td>Front-wheel drive (FWD)</td>\n",
       "      <td>Other</td>\n",
       "      <td>Gasoline</td>\n",
       "      <td>93000</td>\n",
       "      <td>https://www.carproof.com/order?ref=kijiji&amp;vin=...</td>\n",
       "      <td>1726 Kingston Road, Scarborough, ON, M1N 1S8</td>\n",
       "      <td>Automatic 6-spd</td>\n",
       "      <td>21.0</td>\n",
       "      <td>3.5</td>\n",
       "    </tr>\n",
       "    <tr>\n",
       "      <th>7</th>\n",
       "      <td>Honda</td>\n",
       "      <td>Accord</td>\n",
       "      <td>2015</td>\n",
       "      <td>15499</td>\n",
       "      <td>White</td>\n",
       "      <td>LX</td>\n",
       "      <td>Used</td>\n",
       "      <td>Sedan</td>\n",
       "      <td>Front-wheel drive (FWD)</td>\n",
       "      <td>Other</td>\n",
       "      <td>Gasoline</td>\n",
       "      <td>93000</td>\n",
       "      <td>https://www.carproof.com/order?ref=kijiji&amp;vin=...</td>\n",
       "      <td>1726 Kingston Road, Scarborough, ON, M1N 1S8</td>\n",
       "      <td>Automatic (S6)</td>\n",
       "      <td>21.0</td>\n",
       "      <td>3.5</td>\n",
       "    </tr>\n",
       "  </tbody>\n",
       "</table>\n",
       "</div>"
      ],
      "text/plain": [
       "        brand   model  Year  list_price  color      configration condition  \\\n",
       "1  Volkswagen  Tiguan  2013       11450   Grey  COMFORTLINE  4WD      Used   \n",
       "2  Volkswagen  Tiguan  2013       11450   Grey  COMFORTLINE  4WD      Used   \n",
       "5       Honda  Accord  2015       15499  White                LX      Used   \n",
       "6       Honda  Accord  2015       15499  White                LX      Used   \n",
       "7       Honda  Accord  2015       15499  White                LX      Used   \n",
       "\n",
       "        body_type             wheel_config transmission fuel_type mileage  \\\n",
       "1  SUV, Crossover    All-wheel drive (AWD)    Automatic  Gasoline  129000   \n",
       "2  SUV, Crossover    All-wheel drive (AWD)    Automatic  Gasoline  129000   \n",
       "5           Sedan  Front-wheel drive (FWD)        Other  Gasoline   93000   \n",
       "6           Sedan  Front-wheel drive (FWD)        Other  Gasoline   93000   \n",
       "7           Sedan  Front-wheel drive (FWD)        Other  Gasoline   93000   \n",
       "\n",
       "                                         carfax_link  \\\n",
       "1  https://www.carproof.com/order?ref=kijiji&vin=...   \n",
       "2  https://www.carproof.com/order?ref=kijiji&vin=...   \n",
       "5  https://www.carproof.com/order?ref=kijiji&vin=...   \n",
       "6  https://www.carproof.com/order?ref=kijiji&vin=...   \n",
       "7  https://www.carproof.com/order?ref=kijiji&vin=...   \n",
       "\n",
       "                                 dealer_address     Transmission   mpg  \\\n",
       "1  1205 Finch Avenue West, Toronto, ON, M3J 2E8     Manual 6-spd  18.0   \n",
       "2  1205 Finch Avenue West, Toronto, ON, M3J 2E8   Automatic (S6)  21.0   \n",
       "5  1726 Kingston Road, Scarborough, ON, M1N 1S8     Manual 6-spd  18.0   \n",
       "6  1726 Kingston Road, Scarborough, ON, M1N 1S8  Automatic 6-spd  21.0   \n",
       "7  1726 Kingston Road, Scarborough, ON, M1N 1S8   Automatic (S6)  21.0   \n",
       "\n",
       "   Displacement  \n",
       "1           2.0  \n",
       "2           2.0  \n",
       "5           3.5  \n",
       "6           3.5  \n",
       "7           3.5  "
      ]
     },
     "execution_count": 19,
     "metadata": {},
     "output_type": "execute_result"
    }
   ],
   "source": [
    "car_df.head()"
   ]
  },
  {
   "cell_type": "code",
   "execution_count": null,
   "metadata": {},
   "outputs": [],
   "source": [
    "col = ['brand','Year','mpg','Displacement','list_price']"
   ]
  },
  {
   "cell_type": "markdown",
   "metadata": {},
   "source": []
  },
  {
   "cell_type": "code",
   "execution_count": null,
   "metadata": {},
   "outputs": [],
   "source": [
    "car_df.head()"
   ]
  },
  {
   "cell_type": "code",
   "execution_count": null,
   "metadata": {},
   "outputs": [],
   "source": [
    "import matplotlib.pyplot as plt"
   ]
  },
  {
   "cell_type": "code",
   "execution_count": null,
   "metadata": {},
   "outputs": [],
   "source": [
    "# Plot\n",
    "\n",
    "make_count = car_df.groupby('model_year')['brand'].count()"
   ]
  },
  {
   "cell_type": "code",
   "execution_count": null,
   "metadata": {},
   "outputs": [],
   "source": [
    "make_count_frame = make_count.to_frame()"
   ]
  },
  {
   "cell_type": "code",
   "execution_count": null,
   "metadata": {},
   "outputs": [],
   "source": [
    "make_count_frame.plot(kind = 'bar',title = 'Year /Brand on kijiji website')"
   ]
  },
  {
   "cell_type": "code",
   "execution_count": null,
   "metadata": {},
   "outputs": [],
   "source": [
    "brand_count = car_df.groupby('brand')['model_year'].count()"
   ]
  },
  {
   "cell_type": "code",
   "execution_count": null,
   "metadata": {},
   "outputs": [],
   "source": [
    "brand_count_df = brand_count.to_frame()"
   ]
  },
  {
   "cell_type": "code",
   "execution_count": null,
   "metadata": {},
   "outputs": [],
   "source": [
    "\n",
    "brand_count_df = brand_count_df.sort_values(by=['model_year'])\n",
    "brand_count_df.plot(kind = 'bar',title = 'Year /Brand on kijiji website')"
   ]
  },
  {
   "cell_type": "code",
   "execution_count": null,
   "metadata": {},
   "outputs": [],
   "source": [
    "df= car_df\n",
    "trial = pd.DataFrame()\n",
    "for b in list(df[\"brand\"].unique()):\n",
    "    for v in list(df[\"body_type\"].unique()):\n",
    "        z = df[(df[\"brand\"] == b) & (df[\"body_type\"] == v)][\"list_price\"].mean()\n",
    "        trial = trial.append(pd.DataFrame({'brand':b , 'body_type':v , 'avgPrice':z}, index=[0]))\n",
    "trial = trial.reset_index()\n",
    "del trial[\"index\"]\n",
    "trial[\"avgPrice\"].fillna(0,inplace=True)\n",
    "trial[\"avgPrice\"].isnull().value_counts()\n",
    "trial[\"avgPrice\"] = trial[\"avgPrice\"].astype(int)\n",
    "trial.head(5)"
   ]
  },
  {
   "cell_type": "code",
   "execution_count": null,
   "metadata": {},
   "outputs": [],
   "source": [
    "# HeatMap tp show average prices of vehicles by brand and type together\n",
    "tri = trial.pivot(\"brand\",\"body_type\", \"avgPrice\")\n",
    "fig, ax = plt.subplots(figsize=(15,20))\n",
    "sns.heatmap(tri,linewidths=1,cmap=\"YlGnBu\",annot=True, ax=ax, fmt=\"d\")\n",
    "ax.set_title(\"Average price of vehicles by vehicle type and brand\",fontdict={'size':20})\n",
    "ax.xaxis.set_label_text(\"Type Of Vehicle\",fontdict= {'size':20})\n",
    "ax.yaxis.set_label_text(\"Brand\",fontdict= {'size':20})\n",
    "plt.show()"
   ]
  },
  {
   "cell_type": "code",
   "execution_count": null,
   "metadata": {},
   "outputs": [],
   "source": [
    "df= car_df\n",
    "mile_price = pd.DataFrame()\n",
    "for b in list(df[\"brand\"].unique()):\n",
    "    for v in list(df[\"body_type\"].unique()):\n",
    "        z = df[(df[\"brand\"] == b) & (df[\"body_type\"] == v)][\"mileage\"].mean()\n",
    "        mile_price = mile_price.append(pd.DataFrame({'brand':b , 'body_type':v , 'avgMileage':z}, index=[0]))\n",
    "mile_price = mile_price.reset_index()\n",
    "del mile_price[\"index\"]\n",
    "mile_price[\"avgMileage\"].fillna(0,inplace=True)\n",
    "mile_price[\"avgMileage\"].isnull().value_counts()\n",
    "mile_price[\"avgMileage\"] = mile_price[\"avgMileage\"].astype(int)\n",
    "mile_price.head(5)"
   ]
  },
  {
   "cell_type": "code",
   "execution_count": null,
   "metadata": {},
   "outputs": [],
   "source": [
    "avg_mile = mile_price.groupby('brand')['avgMileage'].mean()"
   ]
  },
  {
   "cell_type": "code",
   "execution_count": null,
   "metadata": {},
   "outputs": [],
   "source": [
    "avg_mile_df = avg_mile.to_frame()\n"
   ]
  },
  {
   "cell_type": "code",
   "execution_count": null,
   "metadata": {},
   "outputs": [],
   "source": [
    "avg_mile_df = avg_mile_df.sort_values(by=['avgMileage'])\n",
    "\n",
    "avg_mile_df.plot(kind='bar')"
   ]
  },
  {
   "cell_type": "code",
   "execution_count": null,
   "metadata": {},
   "outputs": [],
   "source": [
    "brand_avg_price = trial\n",
    "\n",
    "brand_avg_price = brand_avg_price.groupby('brand')['avgPrice'].mean()\n",
    "brand_avg_price_df = brand_avg_price.to_frame()\n",
    "brand_avg_price_df = brand_avg_price_df.sort_values(by=['avgPrice'])\n",
    "\n",
    "brand_avg_price_df.plot(kind='bar')"
   ]
  },
  {
   "cell_type": "code",
   "execution_count": null,
   "metadata": {},
   "outputs": [],
   "source": []
  }
 ],
 "metadata": {
  "kernelspec": {
   "display_name": "Python 3",
   "language": "python",
   "name": "python3"
  },
  "language_info": {
   "codemirror_mode": {
    "name": "ipython",
    "version": 3
   },
   "file_extension": ".py",
   "mimetype": "text/x-python",
   "name": "python",
   "nbconvert_exporter": "python",
   "pygments_lexer": "ipython3",
   "version": "3.6.5"
  }
 },
 "nbformat": 4,
 "nbformat_minor": 2
}
